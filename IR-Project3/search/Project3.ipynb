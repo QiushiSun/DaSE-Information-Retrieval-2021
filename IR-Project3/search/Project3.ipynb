{
 "cells": [
  {
   "cell_type": "markdown",
   "metadata": {},
   "source": [
    "# Information Retrieval Project3"
   ]
  },
  {
   "cell_type": "code",
   "execution_count": 2,
   "metadata": {},
   "outputs": [],
   "source": [
    "import time\n",
    "import sys"
   ]
  },
  {
   "cell_type": "code",
   "execution_count": 3,
   "metadata": {},
   "outputs": [],
   "source": [
    "from BTrees.OOBTree import OOBTree\n",
    "BTree_index = OOBTree()\n",
    "# Permuterm Index"
   ]
  },
  {
   "cell_type": "code",
   "execution_count": 4,
   "metadata": {},
   "outputs": [
    {
     "name": "stdout",
     "output_type": "stream",
     "text": [
      "permute: 0 hellworld$\n",
      "permute: 1 $hellworld\n",
      "permute: 2 d$hellworl\n",
      "permute: 3 ld$hellwor\n",
      "permute: 4 rld$hellwo\n",
      "permute: 5 orld$hellw\n",
      "permute: 6 world$hell\n",
      "permute: 7 lworld$hel\n",
      "permute: 8 llworld$he\n",
      "permute: 9 ellworld$h\n"
     ]
    }
   ],
   "source": [
    "# simple demo of permuterm\n",
    "word = 'hellworld'\n",
    "word += '$'\n",
    "for i in range(len(word)):\n",
    "#     BTree_index.update({word:key})\n",
    "    print('permute:',i,word)\n",
    "    word = word[-1]+word[:-1]"
   ]
  },
  {
   "cell_type": "code",
   "execution_count": 5,
   "metadata": {},
   "outputs": [
    {
     "name": "stdout",
     "output_type": "stream",
     "text": [
      "<BTrees.OOBTree.OOBTree object at 0x7fdc93b62a40>\n"
     ]
    }
   ],
   "source": [
    "print(BTree_index)"
   ]
  },
  {
   "cell_type": "code",
   "execution_count": 6,
   "metadata": {},
   "outputs": [],
   "source": [
    "# Permuterm_\n",
    "def Permuterm_Insert(BTree_index,key,word):\n",
    "    word += '$'\n",
    "    for i in range(len(word)):\n",
    "        BTree_index.update({word:key})\n",
    "        # 插入Key-Value Pair\n",
    "        word = word[-1]+word[:-1]"
   ]
  },
  {
   "cell_type": "code",
   "execution_count": 7,
   "metadata": {},
   "outputs": [],
   "source": [
    "def Word_Search(BTree_index,word):\n",
    "    #API keys(min=None, max=None, excludemin=False, excludemax=False)\n",
    "#     print(word,chr(ord(word[-1])+1))\n",
    "    return list(BTree_index.values(min=word,\n",
    "                                   max=word[:-1]+chr(ord(word[-1])+1),  # word -> order, 用于排序\n",
    "                                   excludemax=True))\n",
    "# if excludemax is specified and true, is further constrained to keys strictly less than max"
   ]
  },
  {
   "cell_type": "code",
   "execution_count": 8,
   "metadata": {},
   "outputs": [
    {
     "name": "stdout",
     "output_type": "stream",
     "text": [
      "['hell', 'world$']\n"
     ]
    }
   ],
   "source": [
    "word = 'hell*world'\n",
    "word += '$'\n",
    "sep_w = word.split('*')\n",
    "print(sep_w)"
   ]
  },
  {
   "cell_type": "code",
   "execution_count": 9,
   "metadata": {},
   "outputs": [],
   "source": [
    "def Permuterm_Search(BTree_index,raw_word):\n",
    "    ans = []\n",
    "    # insert$\n",
    "    raw_word += '$'\n",
    "    word_sep = raw_word.split('*')\n",
    "    if len(word_sep) == 1:\n",
    "        ans_idx = Word_Search(BTree_index,word_sep[0])\n",
    "        \n",
    "    else:\n",
    "        target = word_sep[1] + word_sep[0]\n",
    "        ans_idx = Word_Search(BTree_index, target)\n",
    "        \n",
    "    ans_idx = sorted(ans_idx,key = lambda x: x[1]) # 排序\n",
    "    ans = []\n",
    "\n",
    "    # get top 2 data\n",
    "    for i in ans_idx[:2]:\n",
    "        \n",
    "        ans = SearchOR(ans, dic[i[0]])\n",
    "    ansWord = [x[1] for x in ans_idx]\n",
    "    return ans,ansWord"
   ]
  },
  {
   "cell_type": "code",
   "execution_count": 10,
   "metadata": {},
   "outputs": [],
   "source": [
    "def SearchOR(Search1, Search2):\n",
    "    ans = []\n",
    "    i = 0\n",
    "    j = 0\n",
    "    len_1 = len(Search1)\n",
    "    len_2 = len(Search2)\n",
    "    while i < len_1 or j < len_2:\n",
    "        if (i == len_1):\n",
    "            ans.append(Search2[j])\n",
    "            j += 1\n",
    "            continue\n",
    "        if (j == len_2):\n",
    "            ans.append(Search1[i])\n",
    "            i += 1\n",
    "            continue\n",
    "            # two case\n",
    "        if (Search1[i] < Search2[j]):\n",
    "            ans.append(Search1[i])\n",
    "            i += 1\n",
    "        elif (Search1[i] > Search2[j]):\n",
    "            ans.append(Search2[j])\n",
    "            j += 1\n",
    "        else:\n",
    "            ans.append(Search1[i])\n",
    "            i += 1\n",
    "            j += 1\n",
    "    return ans"
   ]
  },
  {
   "cell_type": "code",
   "execution_count": 11,
   "metadata": {},
   "outputs": [],
   "source": [
    "dict_index_path = \"./dict.index.txt\"\n",
    "doc = open(dict_index_path, 'r', encoding='utf8')\n",
    "dic = []"
   ]
  },
  {
   "cell_type": "code",
   "execution_count": 12,
   "metadata": {},
   "outputs": [
    {
     "name": "stdout",
     "output_type": "stream",
     "text": [
      "Time cost of Constructing the B Tree 7.8790271282196045 s\n"
     ]
    }
   ],
   "source": [
    "time_start=time.time()\n",
    "\n",
    "for l in doc.readlines():\n",
    "    cnt = 0\n",
    "    data = l.split('\\t')\n",
    "#   print(data)\n",
    "    Permuterm_Insert(BTree_index, (len(dic),data[0]), data[0])\n",
    "    # insert doc id\n",
    "    dic.append([int(x) for x in data[2].split()])\n",
    "    cnt+=1\n",
    "#   print(dic)\n",
    "    \n",
    "time_end=time.time()\n",
    "print('Time cost of Constructing the B Tree',time_end-time_start,'s')"
   ]
  },
  {
   "cell_type": "code",
   "execution_count": null,
   "metadata": {},
   "outputs": [
    {
     "name": "stdin",
     "output_type": "stream",
     "text": [
      "输入通配查询 *sment\n"
     ]
    },
    {
     "name": "stdout",
     "output_type": "stream",
     "text": [
      "Query ['*sment']\n",
      "['assessment', 'embarrassment', 'harassment', 'office_of_technology_assessment', 'radiological-assessment', 'reassessment', 'self-assessment']\n",
      "DocID: [1077, 1141, 1144, 1166, 1246, 1294, 1314, 1477, 1498, 1593, 1629, 1637, 1702, 1767, 1770, 1792, 1871, 1920, 1940, 2102, 2124, 2218, 2255, 2263, 2303, 2359, 4414, 8477, 10221, 10869, 13966, 17498, 17901, 18425, 18983, 19759, 20193, 20276, 21062, 21576, 22351, 22703, 22850, 23516, 23538, 23610, 23922, 24395, 24837, 24999, 25003, 25614, 25671, 25683, 25705, 26369, 26519, 27429, 27430, 27549, 27648, 28591, 28931, 31024, 31031, 32373, 32513, 32668, 33161, 34353, 36063, 36064, 36126, 36429, 37897, 37909, 38251, 39051, 39703, 40003, 40077, 40168, 40275, 40310, 40517, 41804, 42304, 42378, 42604, 43799, 46769, 47509, 50354, 52230, 53403, 53742, 54079, 55261, 55715, 55847, 56409, 57319, 57328, 57333, 58347, 60504, 61548, 61587, 61651, 61661, 61669, 61672, 61824, 64341, 64342, 65233, 65316, 65468, 65670, 65718, 65839, 65842, 67912, 67942, 68196, 68203, 68261, 68262, 68268, 68359, 68360, 68451, 68470, 68513, 68516, 68648, 68732, 68869, 71625, 71700, 74213, 74249, 74544, 74723, 74835, 75628, 76113, 77715, 79512, 80272, 81248, 81292, 81471, 81700, 82027, 82049, 82643, 82775, 82959, 83049, 83432, 84164, 86264, 88372, 88815, 90889, 91753, 92406, 92603, 92610, 92921, 92927, 93875, 93987, 93988, 94008, 95664, 96143, 96499, 96993, 97982]\n",
      "==================\n"
     ]
    },
    {
     "name": "stdin",
     "output_type": "stream",
     "text": [
      "输入通配查询 ende*\n"
     ]
    },
    {
     "name": "stdout",
     "output_type": "stream",
     "text": [
      "Query ['ende*']\n",
      "['endear', 'endeared', 'endearing', 'endearingly', 'endearment', 'endeavor', 'endeavors', 'ended', 'endemic', 'ender', 'enderle', 'enders', 'endesa']\n",
      "DocID: [15885, 24634, 26089, 35837, 49260, 56858, 56871, 70866, 70879, 88850, 90895, 90903]\n",
      "==================\n"
     ]
    },
    {
     "name": "stdin",
     "output_type": "stream",
     "text": [
      "输入通配查询 p*nn\n"
     ]
    },
    {
     "name": "stdout",
     "output_type": "stream",
     "text": [
      "Query ['p*nn']\n",
      "['paarmann', 'pahlmann', 'pat_quinn', 'patrick_quinn', 'penn', 'peter_hermann', 'peter_neumann', 'peter_r._kann', 'pierre_clostermann', 'pohlmann']\n",
      "DocID: [2432, 2435, 33479, 39664, 69260, 75058]\n",
      "==================\n"
     ]
    },
    {
     "name": "stdin",
     "output_type": "stream",
     "text": [
      "输入通配查询 bn*d\n"
     ]
    },
    {
     "name": "stdout",
     "output_type": "stream",
     "text": [
      "Query ['bn*d']\n",
      "['bnd']\n",
      "DocID: [1324, 1949, 65420, 68608, 94117]\n",
      "==================\n"
     ]
    },
    {
     "name": "stdin",
     "output_type": "stream",
     "text": [
      "输入通配查询 *sment*\n"
     ]
    },
    {
     "name": "stdout",
     "output_type": "stream",
     "text": [
      "Query ['*sment*']\n",
      "['assessment', 'assessments', 'embarrassment', 'embarrassments', 'harassment', 'office_of_technology_assessment', 'radiological-assessment', 'reassessment', 'self-assessment']\n",
      "DocID: [1077, 1141, 1144, 1166, 1246, 1294, 1314, 1477, 1498, 1593, 1601, 1629, 1637, 1639, 1702, 1767, 1770, 1792, 1871, 1920, 1940, 2102, 2124, 2218, 2227, 2255, 2263, 2265, 2303, 2359, 4414, 8477, 9159, 9531, 9904, 10764, 10776, 10800, 10812, 11936, 13341, 13903, 13966, 17498, 17901, 18425, 18983, 19759, 20193, 21576, 22703, 22850, 23538, 23922, 24395, 24999, 25003, 25614, 25639, 25664, 25671, 25683, 25705, 26369, 26519, 26644, 27429, 27648, 28591, 28931, 29120, 30994, 31024, 32373, 32668, 34353, 36063, 36064, 36200, 36276, 36429, 36903, 37260, 37897, 37909, 39051, 39656, 39703, 40003, 40077, 40275, 40485, 40517, 41804, 42304, 42378, 42604, 46769, 47509, 48893, 50354, 50633, 51502, 52230, 53403, 54079, 54117, 55261, 56409, 57319, 57325, 57328, 57333, 57432, 57894, 59850, 60504, 61101, 61548, 61552, 61564, 61587, 61651, 61661, 61669, 61672, 61824, 62077, 64341, 64342, 65233, 65316, 65468, 65474, 65477, 65670, 65718, 65740, 65839, 65842, 65846, 65888, 67912, 67942, 68050, 68196, 68203, 68261, 68262, 68268, 68359, 68360, 68451, 68470, 68513, 68516, 68545, 68648, 68732, 68869, 71625, 71700, 74213, 74249, 74544, 74723, 74835, 75628, 76109, 76113, 79512, 80272, 81248, 81292, 81318, 81471, 81700, 82027, 82029, 82049, 82065, 82643, 82775, 82959, 83047, 83049, 84164, 84912, 84917, 84951, 86264, 88815, 90889, 91753, 92603, 92630, 92653, 93692, 94008, 94530, 94536, 95664, 96143, 96298, 96315, 96499, 99379]\n",
      "==================\n"
     ]
    }
   ],
   "source": [
    "while (True):\n",
    "    query = input('输入通配查询').split()\n",
    "    print('Query',query)\n",
    "    Doc_id_ans, Word_ans = Permuterm_Search(BTree_index, query[0])\n",
    "    \n",
    "    if len(query) > 1 and query[0] != 'exit':\n",
    "        print(Word_ans[:int(query[1])])\n",
    "    elif query[0] == 'exit':\n",
    "        print('The end')\n",
    "        break\n",
    "    else:\n",
    "        print(Word_ans)\n",
    "    print('DocID:',Doc_id_ans)\n",
    "    print('==================')"
   ]
  },
  {
   "cell_type": "code",
   "execution_count": null,
   "metadata": {},
   "outputs": [],
   "source": []
  },
  {
   "cell_type": "code",
   "execution_count": null,
   "metadata": {},
   "outputs": [],
   "source": []
  },
  {
   "cell_type": "code",
   "execution_count": null,
   "metadata": {},
   "outputs": [],
   "source": []
  }
 ],
 "metadata": {
  "kernelspec": {
   "display_name": "Python 3",
   "language": "python",
   "name": "python3"
  },
  "language_info": {
   "codemirror_mode": {
    "name": "ipython",
    "version": 3
   },
   "file_extension": ".py",
   "mimetype": "text/x-python",
   "name": "python",
   "nbconvert_exporter": "python",
   "pygments_lexer": "ipython3",
   "version": "3.8.5"
  }
 },
 "nbformat": 4,
 "nbformat_minor": 4
}
