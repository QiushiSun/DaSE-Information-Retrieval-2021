{
 "cells": [
  {
   "cell_type": "markdown",
   "metadata": {
    "id": "kFwVyi28v-1u"
   },
   "source": [
    "# 2021 Fall 信息检索 Project1\n",
    "\n",
    "## 中文分词：最大匹配算法"
   ]
  },
  {
   "cell_type": "markdown",
   "metadata": {
    "id": "mehn6RhfQHWb"
   },
   "source": [
    "加载必要的python库"
   ]
  },
  {
   "cell_type": "code",
   "execution_count": 1,
   "metadata": {
    "id": "BY0vUhYXv-1y"
   },
   "outputs": [],
   "source": [
    "import numpy as np\n",
    "import time\n",
    "import pandas as pd\n",
    "import seaborn as sns\n",
    "import matplotlib.pyplot as plt"
   ]
  },
  {
   "cell_type": "code",
   "execution_count": 2,
   "metadata": {
    "id": "3R1VQlNhv-1z"
   },
   "outputs": [],
   "source": [
    "corpus_file = open(\"corpus.sentence.txt\", \"r\", encoding=\"utf-8\")"
   ]
  },
  {
   "cell_type": "markdown",
   "metadata": {
    "id": "knx8FkoLxbj3"
   },
   "source": [
    "使用一个函数从文件中按行读取文本"
   ]
  },
  {
   "cell_type": "code",
   "execution_count": 3,
   "metadata": {
    "id": "i5HMmD-7v-1z"
   },
   "outputs": [],
   "source": [
    "def data_read(file):\n",
    "    return file.readlines()"
   ]
  },
  {
   "cell_type": "code",
   "execution_count": 5,
   "metadata": {
    "id": "3ON3eyCEv-10"
   },
   "outputs": [],
   "source": [
    "corpus = data_read(corpus_file)"
   ]
  },
  {
   "cell_type": "markdown",
   "metadata": {
    "id": "rQgf4AfPQMMH"
   },
   "source": [
    "读取词典文件"
   ]
  },
  {
   "cell_type": "code",
   "execution_count": 4,
   "metadata": {
    "id": "kf6G3f-kv-10"
   },
   "outputs": [],
   "source": [
    "dict_file = open(\"corpus.dict.txt\", \"r\", encoding=\"utf-8\")"
   ]
  },
  {
   "cell_type": "code",
   "execution_count": 6,
   "metadata": {
    "id": "E-BQ7SjMv-11"
   },
   "outputs": [],
   "source": [
    "corpus_dict = data_read(dict_file)"
   ]
  },
  {
   "cell_type": "code",
   "execution_count": 7,
   "metadata": {
    "colab": {
     "base_uri": "https://localhost:8080/"
    },
    "id": "9Jxzn0rFv-11",
    "outputId": "5e8c0fea-be46-4ceb-99ec-91135d8a132c"
   },
   "outputs": [
    {
     "data": {
      "text/plain": [
       "['4537', '10']"
      ]
     },
     "execution_count": 7,
     "metadata": {},
     "output_type": "execute_result"
    }
   ],
   "source": [
    "corpus_dict[0].split()"
   ]
  },
  {
   "cell_type": "markdown",
   "metadata": {
    "id": "BR6sagDuv-12"
   },
   "source": [
    "此处意义是：词典长度为4537，单个词的最大长度是10"
   ]
  },
  {
   "cell_type": "code",
   "execution_count": 8,
   "metadata": {
    "colab": {
     "base_uri": "https://localhost:8080/"
    },
    "id": "mPeUHVKIv-13",
    "outputId": "726f7bb4-eb81-43a5-a75d-5f6e2e991f76"
   },
   "outputs": [
    {
     "data": {
      "text/plain": [
       "['沉静']"
      ]
     },
     "execution_count": 8,
     "metadata": {},
     "output_type": "execute_result"
    }
   ],
   "source": [
    "corpus_dict[1].split() #check data form"
   ]
  },
  {
   "cell_type": "code",
   "execution_count": 13,
   "metadata": {
    "id": "42xryM0Zv-13"
   },
   "outputs": [],
   "source": [
    "dict_len = 4537\n",
    "max_word_len = 10"
   ]
  },
  {
   "cell_type": "code",
   "execution_count": 12,
   "metadata": {
    "id": "Gh5Geufev-14"
   },
   "outputs": [],
   "source": [
    "dict_array = []\n",
    "for i in range(1,dict_len+1): #注意文件头部并非词典内容\n",
    "    dict_array.append(\"\".join(corpus_dict[i].split()))\n",
    "    # 用join而非直接append是为了去方括号"
   ]
  },
  {
   "cell_type": "code",
   "execution_count": 57,
   "metadata": {
    "id": "HnrL-y9GysuB"
   },
   "outputs": [],
   "source": [
    "def MaximumMatching(corpus):\n",
    "  time_start=time.time()\n",
    "  match_answer = []\n",
    "  sentence_num = 0\n",
    "  for line in corpus:\n",
    "    per_sentence_answer = []\n",
    "    pos = 0\n",
    "    while pos<len(line): # 终止条件为pos到了当前这个句子的最大长度\n",
    "        current_line_len = len(line)\n",
    "        start_len = min(max_word_len, current_line_len-pos-1) # start_len指初始状态的最长匹配长度\n",
    "        # 此处需要确定最大单词长，可能是10，也可能是当前匹配后剩下的部分\n",
    "        for current_len in range(start_len,0,-1): # 从最大长度开始减，每次失败就-1\n",
    "            if (line[pos:pos+current_len] in dict_array):\n",
    "                per_sentence_answer.append(line[pos:pos+current_len]) # 往单句匹配结果加入当前匹配好的词\n",
    "                pos=pos+current_len-1\n",
    "             # position移动到匹配完单词后的下一个位置\n",
    "                break;\n",
    "            elif current_len == 1: # 只有单自可匹配则直接加入匹配结果中\n",
    "                per_sentence_answer.append(line[pos:pos+current_len])\n",
    "        pos+=1\n",
    "    # 将当前句子的分词结果以列表形式append到答案中\n",
    "    match_answer.append(per_sentence_answer)\n",
    "    sentence_num+=1\n",
    "  time_end=time.time()\n",
    "  print(\"Total sentence number for word seg:\",sentence_num)\n",
    "  print('Total time cost',time_end-time_start,'s')\n",
    "  return match_answer "
   ]
  },
  {
   "cell_type": "code",
   "execution_count": 58,
   "metadata": {
    "colab": {
     "base_uri": "https://localhost:8080/"
    },
    "id": "l3alufwrxqwr",
    "outputId": "7f44ad20-eb4a-4f0f-e54f-26f6211ab390"
   },
   "outputs": [
    {
     "name": "stdout",
     "output_type": "stream",
     "text": [
      "Total sentence number for word seg: 803\n",
      "Total time cost 10.873929500579834 s\n"
     ]
    }
   ],
   "source": [
    "match_result = MaximumMatching(corpus)"
   ]
  },
  {
   "cell_type": "markdown",
   "metadata": {
    "id": "iqPO7QkW6G7d"
   },
   "source": [
    "Sanity Check\n",
    "\n",
    "查看一下分词的大致状况"
   ]
  },
  {
   "cell_type": "code",
   "execution_count": 16,
   "metadata": {
    "colab": {
     "base_uri": "https://localhost:8080/"
    },
    "id": "O15EjuKo48HT",
    "outputId": "5f8e418b-59db-4cac-d865-083c964ba2b6"
   },
   "outputs": [
    {
     "data": {
      "text/plain": [
       "['关于',\n",
       " '香港',\n",
       " '回归',\n",
       " '中国',\n",
       " '后',\n",
       " '的',\n",
       " '国际',\n",
       " '金融',\n",
       " '地位',\n",
       " '问题',\n",
       " '，',\n",
       " '戴相龙',\n",
       " '强调',\n",
       " '，',\n",
       " '香港',\n",
       " '的',\n",
       " '国际',\n",
       " '金融',\n",
       " '地位',\n",
       " '不但',\n",
       " '能够',\n",
       " '维持',\n",
       " '，',\n",
       " '而且',\n",
       " '还',\n",
       " '会',\n",
       " '得到',\n",
       " '加强',\n",
       " '。']"
      ]
     },
     "execution_count": 16,
     "metadata": {},
     "output_type": "execute_result"
    }
   ],
   "source": [
    "match_result[6]"
   ]
  },
  {
   "cell_type": "code",
   "execution_count": 17,
   "metadata": {
    "id": "_Vo7vZkwz-qi"
   },
   "outputs": [],
   "source": [
    "file = open(\"corpus.out.txt\",\"w\",encoding=\"utf8\")\n",
    "for res in match_result:\n",
    "    for i in res:\n",
    "        file.write(i+\" \")\n",
    "    file.write(\"\\n\")"
   ]
  },
  {
   "cell_type": "code",
   "execution_count": 18,
   "metadata": {
    "id": "pb-dAe0v1yNw"
   },
   "outputs": [],
   "source": [
    "answer_file = open(\"corpus.answer.txt\", \"r\", encoding=\"utf-8\")"
   ]
  },
  {
   "cell_type": "code",
   "execution_count": 19,
   "metadata": {
    "id": "nW0ITQ9H1600"
   },
   "outputs": [],
   "source": [
    "correct_match = answer_file.readlines()"
   ]
  },
  {
   "cell_type": "code",
   "execution_count": 20,
   "metadata": {
    "id": "vMSJ4u9V--2d"
   },
   "outputs": [],
   "source": [
    "correct_match_len = len(correct_match)"
   ]
  },
  {
   "cell_type": "markdown",
   "metadata": {
    "id": "t6sQtEurQ712"
   },
   "source": [
    "以下部分为分词结果评估部分，首先实现一下F1-Score的计算"
   ]
  },
  {
   "cell_type": "code",
   "execution_count": 21,
   "metadata": {
    "id": "Bh-P_3OARR4s"
   },
   "outputs": [],
   "source": [
    "def cal_F1(precision,recall):\n",
    "  return (2*precision*recall/(precision+recall))"
   ]
  },
  {
   "cell_type": "code",
   "execution_count": 31,
   "metadata": {
    "colab": {
     "base_uri": "https://localhost:8080/"
    },
    "id": "ulQQBlKqqJeU",
    "outputId": "46679533-9ae9-484a-b3d1-bec6e46a9136"
   },
   "outputs": [
    {
     "data": {
      "text/plain": [
       "803"
      ]
     },
     "execution_count": 31,
     "metadata": {},
     "output_type": "execute_result"
    }
   ],
   "source": [
    "len(correct_match)"
   ]
  },
  {
   "cell_type": "markdown",
   "metadata": {
    "id": "r82O3En4REBM"
   },
   "source": [
    "构建函数完成分词结果与答案的匹配，细节请看comments"
   ]
  },
  {
   "cell_type": "code",
   "execution_count": 67,
   "metadata": {
    "id": "QdUHpgslkwlp"
   },
   "outputs": [],
   "source": [
    "def check_performance(match_result,correct_match):\n",
    "  OutputFile = open(\"performance.txt\",\"w\",encoding=\"utf8\")\n",
    "  OutputFile.write(\"Index\\t Precision\\t Recall\\t F1-score\\n\")\n",
    "  # 写Header\n",
    "  compare_len = len(correct_match)\n",
    "  check_index = 0\n",
    "  for i in range(compare_len):\n",
    "    check_index += 1 # 句子序号\n",
    "    temp_len = len(match_result[i]) # 当前校验的句子的分词结果的长度\n",
    "    valid_tokens = correct_match[i].split() # 正确的分词结果\n",
    "    valid_len = len(valid_tokens) # 正确的分词结果的长度\n",
    "    correct_sum = 0 # 维护一个变量记录多少个正确\n",
    "    answer_pos = valid_pos = 0 # 位置指针\n",
    "    seg_len = val_len = 0 # 两个变量来表示长度位置\n",
    "    # 开始和答案配对\n",
    "    current_corpus_len = len(corpus[i]) - 1 # -1是因为下标从0开始\n",
    "    while(seg_len<current_corpus_len and val_len<current_corpus_len):\n",
    "    # 被校验的分词结果和正确结果任意一个达到了最大长度则终止\n",
    "    # 以下匹配答案，需要注意长度不一，分为三种情况讨论\n",
    "        if seg_len == val_len:\n",
    "          if (match_result[i][answer_pos] == valid_tokens[valid_pos]): correct_sum += 1 # 匹配正确则+1\n",
    "          seg_len += len(match_result[i][answer_pos]) # 第i个句的当前位置\n",
    "          val_len += len(valid_tokens[valid_pos])\n",
    "          answer_pos += 1\n",
    "          valid_pos += 1\n",
    "        elif seg_len > val_len:\n",
    "          val_len += len(valid_tokens[valid_pos]) # 当前tokens前移一位\n",
    "          valid_pos += 1\n",
    "        else: # 小\n",
    "          seg_len += len(match_result[i][answer_pos]) # 当前的position前移一位\n",
    "          answer_pos += 1\n",
    "    # 计算三个指标 Precision Recall 和 F1-Score\n",
    "    Precision = correct_sum/temp_len\n",
    "    Recall = correct_sum/valid_len\n",
    "    F1_score = cal_F1(Precision,Recall) #函数如上个cell的实现\n",
    "    OutputFile.write(\"%d\\t %.2f\\t %.2f\\t %.2f\\n\" % (check_index, Precision, Recall, F1_score))"
   ]
  },
  {
   "cell_type": "code",
   "execution_count": 68,
   "metadata": {
    "id": "kWjGGeNCpCNM"
   },
   "outputs": [],
   "source": [
    "check_performance(match_result,correct_match)"
   ]
  },
  {
   "cell_type": "markdown",
   "metadata": {
    "id": "SXprRJk_RK9f"
   },
   "source": [
    "将计算好的三个指标存入文件，转为csv格式"
   ]
  },
  {
   "cell_type": "code",
   "execution_count": 69,
   "metadata": {
    "id": "hllYbAYn2mec"
   },
   "outputs": [],
   "source": [
    "df = pd.read_csv(\"performance.txt\",delimiter=\"\\t\")\n",
    "df.to_csv(\"performance.csv\", encoding='utf-8', index=False)\n",
    "df = pd.read_csv(\"performance.csv\",header=0)"
   ]
  },
  {
   "cell_type": "code",
   "execution_count": 70,
   "metadata": {
    "colab": {
     "base_uri": "https://localhost:8080/",
     "height": 204
    },
    "id": "pRCGY9GvAo4t",
    "outputId": "6946fff2-5141-43eb-c798-f4f0bf340803"
   },
   "outputs": [
    {
     "data": {
      "text/html": [
       "<div>\n",
       "<style scoped>\n",
       "    .dataframe tbody tr th:only-of-type {\n",
       "        vertical-align: middle;\n",
       "    }\n",
       "\n",
       "    .dataframe tbody tr th {\n",
       "        vertical-align: top;\n",
       "    }\n",
       "\n",
       "    .dataframe thead th {\n",
       "        text-align: right;\n",
       "    }\n",
       "</style>\n",
       "<table border=\"1\" class=\"dataframe\">\n",
       "  <thead>\n",
       "    <tr style=\"text-align: right;\">\n",
       "      <th></th>\n",
       "      <th>Index</th>\n",
       "      <th>Precision</th>\n",
       "      <th>Recall</th>\n",
       "      <th>F1-score</th>\n",
       "    </tr>\n",
       "  </thead>\n",
       "  <tbody>\n",
       "    <tr>\n",
       "      <th>0</th>\n",
       "      <td>1</td>\n",
       "      <td>1.00</td>\n",
       "      <td>1.00</td>\n",
       "      <td>1.00</td>\n",
       "    </tr>\n",
       "    <tr>\n",
       "      <th>1</th>\n",
       "      <td>2</td>\n",
       "      <td>1.00</td>\n",
       "      <td>1.00</td>\n",
       "      <td>1.00</td>\n",
       "    </tr>\n",
       "    <tr>\n",
       "      <th>2</th>\n",
       "      <td>3</td>\n",
       "      <td>0.95</td>\n",
       "      <td>0.95</td>\n",
       "      <td>0.95</td>\n",
       "    </tr>\n",
       "    <tr>\n",
       "      <th>3</th>\n",
       "      <td>4</td>\n",
       "      <td>1.00</td>\n",
       "      <td>1.00</td>\n",
       "      <td>1.00</td>\n",
       "    </tr>\n",
       "    <tr>\n",
       "      <th>4</th>\n",
       "      <td>5</td>\n",
       "      <td>1.00</td>\n",
       "      <td>1.00</td>\n",
       "      <td>1.00</td>\n",
       "    </tr>\n",
       "  </tbody>\n",
       "</table>\n",
       "</div>"
      ],
      "text/plain": [
       "   Index   Precision   Recall   F1-score\n",
       "0      1        1.00     1.00       1.00\n",
       "1      2        1.00     1.00       1.00\n",
       "2      3        0.95     0.95       0.95\n",
       "3      4        1.00     1.00       1.00\n",
       "4      5        1.00     1.00       1.00"
      ]
     },
     "execution_count": 70,
     "metadata": {},
     "output_type": "execute_result"
    }
   ],
   "source": [
    "df.head(5)"
   ]
  },
  {
   "cell_type": "markdown",
   "metadata": {
    "id": "GkJirDpnRSYU"
   },
   "source": [
    "可视化对分词结果的评价"
   ]
  },
  {
   "cell_type": "code",
   "execution_count": 39,
   "metadata": {
    "id": "H8TnegJAHANM"
   },
   "outputs": [],
   "source": [
    "def metrics(data1,data2,data3):\n",
    "    line1, = plt.plot(data1,'orange',label = 'Precision')\n",
    "    line2, = plt.plot(data2,'green', label = 'Recall') \n",
    "    line3, = plt.plot(data3,'dodgerblue', label = 'F1-Score') \n",
    "    plt.gcf().set_size_inches(12, 6)\n",
    "    plt.title('Per Sentence Metrics')\n",
    "    plt.legend(handles=[line1, line2, line3], labels=['Precision','Recall','F1-Score'], loc='best')\n",
    "    plt.grid(linestyle='-.')\n",
    "    plt.ylim(0)\n",
    "    plt.xlabel('sentence number')\n",
    "    plt.ylabel('metric')\n",
    "    plt.show()"
   ]
  },
  {
   "cell_type": "code",
   "execution_count": 40,
   "metadata": {
    "colab": {
     "base_uri": "https://localhost:8080/",
     "height": 404
    },
    "id": "b33yzKyrLDsN",
    "outputId": "82ab3708-866d-4453-9659-aa6e556d7a5c"
   },
   "outputs": [
    {
     "data": {
      "image/png": "[encoded data removed]",
      "text/plain": [
       "<Figure size 864x432 with 1 Axes>"
      ]
     },
     "metadata": {
      "needs_background": "light"
     },
     "output_type": "display_data"
    }
   ],
   "source": [
    "metrics(df[' Precision'],df[' Recall'],df[' F1-score'])"
   ]
  },
  {
   "cell_type": "code",
   "execution_count": 41,
   "metadata": {
    "colab": {
     "base_uri": "https://localhost:8080/"
    },
    "id": "cfszLb8bLJm7",
    "outputId": "8f5091fb-8290-442b-85ef-7080d588adcf"
   },
   "outputs": [
    {
     "name": "stdout",
     "output_type": "stream",
     "text": [
      "average Precision 0.9947198007471995\n",
      "average Recall 0.9923412204234126\n",
      "average F1-Score 0.99348692403487\n"
     ]
    }
   ],
   "source": [
    "print(\"average Precision\",np.mean(df[' Precision']))\n",
    "print(\"average Recall\",np.mean(df[' Recall']))\n",
    "print(\"average F1-Score\",np.mean(df[' F1-score']))"
   ]
  },
  {
   "cell_type": "code",
   "execution_count": 42,
   "metadata": {
    "colab": {
     "base_uri": "https://localhost:8080/"
    },
    "id": "N1w_VhY6Nv6e",
    "outputId": "505dc6cb-50ab-424d-fdc8-f84fd7f43438"
   },
   "outputs": [
    {
     "name": "stdout",
     "output_type": "stream",
     "text": [
      "worst Precision 0.75 sentence 797\n",
      "worst Recall 0.6 sentence 797\n",
      "worst F1-score 0.67 sentence 797\n"
     ]
    }
   ],
   "source": [
    "print(\"worst Precision\",np.min(df[' Precision']),\"sentence\",np.argmin(df[' Precision'])+1)\n",
    "print(\"worst Recall\",np.min(df[' Recall']),\"sentence\",np.argmin(df[' Recall'])+1)\n",
    "print(\"worst F1-score\",np.min(df[' F1-score']),\"sentence\",np.argmin(df[' F1-score'])+1)"
   ]
  },
  {
   "cell_type": "markdown",
   "metadata": {
    "id": "3YY3JWWWrDvP"
   },
   "source": [
    "Case Study：\n",
    "第797行文本为“【水蒸蛋糕】”，最大匹配分词结果为【 水蒸 蛋糕 】 ，答案为【 水 蒸 蛋糕 】 ，水蒸这个词在词典里，所以被匹配了，整个句子比较短，所以导致了准确率和召回率都出现了明显的下降"
   ]
  }
 ],
 "metadata": {
  "colab": {
   "collapsed_sections": [],
   "name": "Project1_WordSeg.ipynb",
   "provenance": []
  },
  "kernelspec": {
   "display_name": "Python 3",
   "language": "python",
   "name": "python3"
  },
  "language_info": {
   "codemirror_mode": {
    "name": "ipython",
    "version": 3
   },
   "file_extension": ".py",
   "mimetype": "text/x-python",
   "name": "python",
   "nbconvert_exporter": "python",
   "pygments_lexer": "ipython3",
   "version": "3.8.5"
  }
 },
 "nbformat": 4,
 "nbformat_minor": 4
}
